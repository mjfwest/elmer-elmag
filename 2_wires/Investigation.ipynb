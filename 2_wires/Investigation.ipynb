{
 "cells": [
  {
   "cell_type": "code",
   "execution_count": null,
   "metadata": {},
   "outputs": [],
   "source": [
    "import pyvista as pv\n",
    "import os\n",
    "import numpy as np\n",
    "import matplotlib.pyplot as plt\n",
    "import logging\n",
    "\n",
    "logging.basicConfig(level=logging.INFO)\n",
    "logger = logging.getLogger(__name__)"
   ]
  },
  {
   "cell_type": "code",
   "execution_count": null,
   "metadata": {},
   "outputs": [],
   "source": [
    "print(pv.Report())"
   ]
  },
  {
   "cell_type": "code",
   "execution_count": null,
   "metadata": {},
   "outputs": [],
   "source": [
    "vtu_files = [f  for f in os.listdir(os.path.join(os.curdir,'results')) if f.endswith('.vtu')]\n",
    "vtu_files.sort()\n",
    "print(f'{len(vtu_files)} vtu files found')"
   ]
  },
  {
   "cell_type": "code",
   "execution_count": null,
   "metadata": {},
   "outputs": [],
   "source": [
    "mesh_t0 = pv.read(os.path.join(os.curdir,'results', vtu_files[0]))"
   ]
  },
  {
   "cell_type": "code",
   "execution_count": null,
   "metadata": {},
   "outputs": [],
   "source": [
    "p = pv.Plotter()\n",
    "p.add_mesh(mesh_t0, scalars=\"current density e\", component=2, show_edges=False, cmap='jet')\n",
    "p.add_mesh(mesh_t0.contour(isosurfaces=20, scalars='a', method='contour'),color='white',point_size=1, show_edges=False, opacity=0.5)\n",
    "p.set_viewup([0,0,1])\n",
    "p.camera.zoom('tight')\n",
    "p.show()"
   ]
  },
  {
   "cell_type": "code",
   "execution_count": null,
   "metadata": {},
   "outputs": [],
   "source": [
    "WIRE_1_ID = 1\n",
    "WIRE_2_ID = 2\n",
    "\n",
    "wire_1 = mesh_t0.threshold([WIRE_1_ID - 0.1, WIRE_1_ID + 0.1], scalars=\"GeometryIds\")"
   ]
  },
  {
   "cell_type": "code",
   "execution_count": null,
   "metadata": {},
   "outputs": [],
   "source": [
    "p = pv.Plotter()\n",
    "p.add_mesh(wire_1, scalars=\"current density e\", component=2, show_edges=True, cmap='jet')\n",
    "p.set_viewup([0,1,0])\n",
    "\n",
    "p.add_mesh(pv.Line((-1e-3,0,0), (1e-3,0,0)), color='green', line_width=5)\n",
    "p.show()"
   ]
  },
  {
   "cell_type": "code",
   "execution_count": null,
   "metadata": {},
   "outputs": [],
   "source": [
    "RESOLUTION=100\n",
    "WIRE_DIAMETER = 2e-3\n",
    "\n",
    "p = pv.Plotter(notebook=True, off_screen=True)\n",
    "p.open_gif('j.gif')\n",
    "\n",
    "mesh = pv.read(os.path.join(os.curdir,'results', vtu_files[0]))\n",
    "wire_mesh = mesh.threshold([WIRE_1_ID - 0.1, WIRE_1_ID + 0.1], scalars=\"GeometryIds\")\n",
    "p.add_mesh(wire_mesh, scalars=\"current density e\", component=2, show_edges=False, cmap='jet', lighting=False)\n",
    "p.set_viewup([0,1,0])\n",
    "p.camera.zoom('tight')\n",
    "p.show()\n",
    "p.update_scalar_bar_range([-4e5, 4e5])\n",
    "\n",
    "wire_currrent = np.empty((len(vtu_files), 2))\n",
    "wire_current_density = np.empty((len(vtu_files), RESOLUTION+1))\n",
    "wire_positions = np.linspace(-WIRE_DIAMETER/2, WIRE_DIAMETER/2, RESOLUTION+1)\n",
    "\n",
    "for idx, vtu_file in enumerate(vtu_files):\n",
    "    logger.info(f'Processing {vtu_file}')\n",
    "    mesh = pv.read(os.path.join(os.curdir,'results', vtu_file))\n",
    "    for wire in [WIRE_1_ID, WIRE_2_ID]:\n",
    "        wire_mesh = mesh.threshold([wire - 0.1, wire + 0.1], scalars=\"GeometryIds\")\n",
    "        wire_mesh_int = wire_mesh.integrate_data()\n",
    "        wire_currrent[idx, wire-1] = wire_mesh_int['current density e'][0, 2] # 2 is the z component\n",
    "        # sample across the wire,\n",
    "        if wire == WIRE_1_ID:\n",
    "            p.update_coordinates(wire_mesh.points, render=False)\n",
    "            p.update_scalars(wire_mesh['current density e'][:,2], render=False)\n",
    "            p.write_frame()\n",
    "            line_sample = wire_mesh.sample_over_line((-WIRE_DIAMETER/2,0,0), (WIRE_DIAMETER/2,0,0), resolution=RESOLUTION)\n",
    "            wire_current_density[idx] = line_sample['current density e'][:,2]\n",
    "\n",
    "p.close()"
   ]
  },
  {
   "cell_type": "code",
   "execution_count": null,
   "metadata": {},
   "outputs": [],
   "source": [
    "from matplotlib import pyplot as plt\n",
    "plt.plot(wire_currrent[:,0], label='Wire 1')"
   ]
  },
  {
   "cell_type": "code",
   "execution_count": null,
   "metadata": {},
   "outputs": [],
   "source": [
    "plt.plot(wire_positions/1e6, np.sqrt(np.mean(wire_current_density**2, axis=0)))\n"
   ]
  },
  {
   "cell_type": "code",
   "execution_count": null,
   "metadata": {},
   "outputs": [],
   "source": [
    "fig = plt.figure()\n",
    "ax = fig.add_subplot(111)\n",
    "ax.plot(sample_over_line[\"Distance\"], sample_over_line[\"current density e\"][:,2])"
   ]
  },
  {
   "cell_type": "code",
   "execution_count": null,
   "metadata": {},
   "outputs": [],
   "source": [
    "sample_over_line[\"current density e\"]"
   ]
  },
  {
   "cell_type": "code",
   "execution_count": null,
   "metadata": {},
   "outputs": [],
   "source": []
  }
 ],
 "metadata": {
  "kernelspec": {
   "display_name": ".venv",
   "language": "python",
   "name": "python3"
  },
  "language_info": {
   "codemirror_mode": {
    "name": "ipython",
    "version": 3
   },
   "file_extension": ".py",
   "mimetype": "text/x-python",
   "name": "python",
   "nbconvert_exporter": "python",
   "pygments_lexer": "ipython3",
   "version": "3.12.4"
  }
 },
 "nbformat": 4,
 "nbformat_minor": 2
}
